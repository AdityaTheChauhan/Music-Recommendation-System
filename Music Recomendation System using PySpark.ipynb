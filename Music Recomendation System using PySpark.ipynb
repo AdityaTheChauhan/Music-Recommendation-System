{
  "cells": [
    {
      "cell_type": "code",
      "source": [
        "pip install pyspark"
      ],
      "outputs": [
        {
          "output_type": "stream",
          "name": "stdout",
          "text": [
            "Requirement already satisfied: pyspark in /usr/local/lib/python3.10/dist-packages (3.4.1)\n",
            "Requirement already satisfied: py4j==0.10.9.7 in /usr/local/lib/python3.10/dist-packages (from pyspark) (0.10.9.7)\n"
          ]
        }
      ],
      "execution_count": 98,
      "metadata": {
        "colab": {
          "base_uri": "https://localhost:8080/"
        },
        "id": "S1jwRFoqUBB7",
        "outputId": "a57e44e5-1a58-4d45-bba4-5dabebf3994a"
      }
    },
    {
      "cell_type": "markdown",
      "source": [
        "##**Dependencies**"
      ],
      "metadata": {
        "nteract": {
          "transient": {
            "deleting": false
          }
        }
      }
    },
    {
      "cell_type": "code",
      "source": [
        "from google.colab import drive\n",
        "from pyspark.sql import SparkSession\n",
        "from pyspark.sql.functions import lower, regexp_replace ,udf ,split\n",
        "from pyspark.sql.types import StringType\n",
        "from pyspark.ml.feature import Tokenizer, StopWordsRemover\n",
        "import pandas as pd\n",
        "from pyspark.sql.functions import col, count, when, isnan, sum\n",
        "import nltk\n",
        "from nltk.tokenize import word_tokenize\n",
        "from nltk.stem import PorterStemmer\n",
        "nltk.download('punkt')\n",
        "from sklearn.feature_extraction.text import TfidfVectorizer\n",
        "from sklearn.metrics.pairwise import cosine_similarity\n"
      ],
      "outputs": [
        {
          "output_type": "stream",
          "name": "stderr",
          "text": [
            "[nltk_data] Downloading package punkt to /root/nltk_data...\n",
            "[nltk_data]   Package punkt is already up-to-date!\n"
          ]
        }
      ],
      "execution_count": 99,
      "metadata": {
        "colab": {
          "base_uri": "https://localhost:8080/"
        },
        "id": "6M3QBNm9UDwr",
        "outputId": "aa8e5d47-03b3-4539-a493-417992b99ea4"
      }
    },
    {
      "cell_type": "markdown",
      "source": [
        "##**Importing Dataset**\n"
      ],
      "metadata": {
        "id": "2szhhqvkDU2w"
      }
    },
    {
      "cell_type": "code",
      "source": [
        "df1=pd.read_csv('/content/songdata.csv')"
      ],
      "outputs": [],
      "execution_count": 100,
      "metadata": {
        "id": "rdBiEJ-vbCFa"
      }
    },
    {
      "cell_type": "markdown",
      "source": [
        "##**Data Exploration/Preparation**"
      ],
      "metadata": {
        "id": "CdTEbRF7WrRG"
      }
    },
    {
      "cell_type": "code",
      "source": [
        "spark=SparkSession.builder.appName(\"SongDataApp\").getOrCreate()"
      ],
      "outputs": [],
      "execution_count": 102,
      "metadata": {
        "id": "XUjXUSCTUaQs"
      }
    },
    {
      "cell_type": "code",
      "source": [
        "df = spark.createDataFrame(df1)"
      ],
      "outputs": [],
      "execution_count": 103,
      "metadata": {
        "id": "fovB3wbaUdTN"
      }
    },
    {
      "cell_type": "code",
      "source": [
        "df_tail = df.orderBy(df['artist'].desc()).limit(10)\n",
        "df_tail.show()"
      ],
      "outputs": [
        {
          "output_type": "stream",
          "name": "stdout",
          "text": [
            "+------+-------------------+--------------------+--------------------+\n",
            "|artist|               song|                link|                text|\n",
            "+------+-------------------+--------------------+--------------------+\n",
            "|  Zwan|   Baby Let's Rock!|/z/zwan/baby+lets...|Baby Let's Rock! ...|\n",
            "|  Zwan|       Come With Me|/z/zwan/come+with...|all you need  \\ni...|\n",
            "|  Zwan|        To Love You|/z/zwan/to+love+y...|In overdrive  \\nI...|\n",
            "|  Zwan|             Desire|/z/zwan/desire_20...|northern star  \\n...|\n",
            "|  Zwan|             El Sol|/z/zwan/el+sol_20...|empty-armed  \\nan...|\n",
            "|  Zwan|          Heartsong|/z/zwan/heartsong...|come in  \\nmake y...|\n",
            "|  Zwan|     Endless Summer|/z/zwan/endless+s...|there used to be ...|\n",
            "|  Zwan|           Honestly|/z/zwan/honestly_...|I believe  \\nI be...|\n",
            "|  Zwan|              Lyric|/z/zwan/lyric_201...|here comes my fai...|\n",
            "|  Zwan|Number Of The Beast|/z/zwan/number+of...|Left alone, my mi...|\n",
            "+------+-------------------+--------------------+--------------------+\n",
            "\n"
          ]
        }
      ],
      "execution_count": 104,
      "metadata": {
        "colab": {
          "base_uri": "https://localhost:8080/"
        },
        "id": "XYdg4TGKYkiL",
        "outputId": "7b549f61-51c1-4e8a-af9d-9f51ad3c06b8"
      }
    },
    {
      "cell_type": "code",
      "source": [
        "df=df.limit(5000)"
      ],
      "outputs": [],
      "execution_count": 105,
      "metadata": {
        "id": "js1nAmI5zys5"
      }
    },
    {
      "cell_type": "code",
      "source": [
        "df.show()"
      ],
      "outputs": [
        {
          "output_type": "stream",
          "name": "stdout",
          "text": [
            "+------+--------------------+--------------------+--------------------+\n",
            "|artist|                song|                link|                text|\n",
            "+------+--------------------+--------------------+--------------------+\n",
            "|  ABBA|Ahe's My Kind Of ...|/a/abba/ahes+my+k...|Look at her face,...|\n",
            "|  ABBA|    Andante, Andante|/a/abba/andante+a...|Take it easy with...|\n",
            "|  ABBA|      As Good As New|/a/abba/as+good+a...|I'll never know w...|\n",
            "|  ABBA|                Bang|/a/abba/bang_2059...|Making somebody h...|\n",
            "|  ABBA|    Bang-A-Boomerang|/a/abba/bang+a+bo...|Making somebody h...|\n",
            "|  ABBA|  Burning My Bridges|/a/abba/burning+m...|Well, you hoot an...|\n",
            "|  ABBA|           Cassandra|/a/abba/cassandra...|Down in the stree...|\n",
            "|  ABBA|          Chiquitita|/a/abba/chiquitit...|Chiquitita, tell ...|\n",
            "|  ABBA|         Crazy World|/a/abba/crazy+wor...|I was out with th...|\n",
            "|  ABBA|     Crying Over You|/a/abba/crying+ov...|I'm waitin' for y...|\n",
            "|  ABBA|               Dance|/a/abba/dance_100...|Oh, my love it ma...|\n",
            "|  ABBA|       Dancing Queen|/a/abba/dancing+q...|You can dance, yo...|\n",
            "|  ABBA|         Disillusion|/a/abba/disillusi...|Changing, moving ...|\n",
            "|  ABBA|Does Your Mother ...|/a/abba/does+your...|You're so hot, te...|\n",
            "|  ABBA|         Dream World|/a/abba/dream+wor...|Agnetha We're not...|\n",
            "|  ABBA|      Dum Dum Diddle|/a/abba/dum+dum+d...|I can hear how yo...|\n",
            "|  ABBA|               Eagle|/a/abba/eagle_200...|They came flying ...|\n",
            "|  ABBA|      Every Good Man|/a/abba/every+goo...|Every good man ne...|\n",
            "|  ABBA|            Fernando|/a/abba/fernando_...|Can you hear the ...|\n",
            "|  ABBA|Fernando (In Span...|/a/abba/fernando+...|Puedes escuchar F...|\n",
            "+------+--------------------+--------------------+--------------------+\n",
            "only showing top 20 rows\n",
            "\n"
          ]
        }
      ],
      "execution_count": 106,
      "metadata": {
        "colab": {
          "base_uri": "https://localhost:8080/"
        },
        "id": "4w-09OhC-QWv",
        "outputId": "e42144f9-4163-4e7f-858b-7ecc7ab7c4c6"
      }
    },
    {
      "cell_type": "code",
      "source": [
        "# Print DataFrame schema\n",
        "df.printSchema()"
      ],
      "outputs": [],
      "execution_count": null,
      "metadata": {
        "collapsed": true,
        "jupyter": {
          "source_hidden": false,
          "outputs_hidden": false
        },
        "nteract": {
          "transient": {
            "deleting": false
          }
        }
      }
    },
    {
      "cell_type": "code",
      "source": [
        "# Drop 'link' column\n",
        "df = df.drop('link')"
      ],
      "outputs": [],
      "execution_count": 110,
      "metadata": {
        "id": "A1kR2ojebw9q"
      }
    },
    {
      "cell_type": "code",
      "source": [
        "null_counts = df.select([sum(col(c).isNull().cast(\"int\")).alias(c) for c in df.columns])\n",
        "null_counts.show()"
      ],
      "outputs": [
        {
          "output_type": "stream",
          "name": "stdout",
          "text": [
            "+------+----+----+\n",
            "|artist|song|text|\n",
            "+------+----+----+\n",
            "|     0|   0|   0|\n",
            "+------+----+----+\n",
            "\n"
          ]
        }
      ],
      "execution_count": 111,
      "metadata": {
        "colab": {
          "base_uri": "https://localhost:8080/"
        },
        "id": "hvtnZTTAeEdU",
        "outputId": "ff791ee1-03f6-485b-e345-5422d0011d8d"
      }
    },
    {
      "cell_type": "code",
      "source": [
        "# Convert 'text' to lowercase, remove punctuation and newline characters\n",
        "df = df.withColumn('text', regexp_replace(lower(df['text']), r'[^\\w\\s]', ' '))\n",
        "df.show()"
      ],
      "outputs": [
        {
          "output_type": "stream",
          "name": "stdout",
          "text": [
            "+------+--------------------+--------------------+\n",
            "|artist|                song|                text|\n",
            "+------+--------------------+--------------------+\n",
            "|  ABBA|Ahe's My Kind Of ...|look at her face ...|\n",
            "|  ABBA|    Andante, Andante|take it easy with...|\n",
            "|  ABBA|      As Good As New|i ll never know w...|\n",
            "|  ABBA|                Bang|making somebody h...|\n",
            "|  ABBA|    Bang-A-Boomerang|making somebody h...|\n",
            "|  ABBA|  Burning My Bridges|well  you hoot an...|\n",
            "|  ABBA|           Cassandra|down in the stree...|\n",
            "|  ABBA|          Chiquitita|chiquitita  tell ...|\n",
            "|  ABBA|         Crazy World|i was out with th...|\n",
            "|  ABBA|     Crying Over You|i m waitin  for y...|\n",
            "|  ABBA|               Dance|oh  my love it ma...|\n",
            "|  ABBA|       Dancing Queen|you can dance  yo...|\n",
            "|  ABBA|         Disillusion|changing  moving ...|\n",
            "|  ABBA|Does Your Mother ...|you re so hot  te...|\n",
            "|  ABBA|         Dream World|agnetha we re not...|\n",
            "|  ABBA|      Dum Dum Diddle|i can hear how yo...|\n",
            "|  ABBA|               Eagle|they came flying ...|\n",
            "|  ABBA|      Every Good Man|every good man ne...|\n",
            "|  ABBA|            Fernando|can you hear the ...|\n",
            "|  ABBA|Fernando (In Span...|puedes escuchar f...|\n",
            "+------+--------------------+--------------------+\n",
            "only showing top 20 rows\n",
            "\n"
          ]
        }
      ],
      "execution_count": 113,
      "metadata": {
        "colab": {
          "base_uri": "https://localhost:8080/"
        },
        "id": "Dn6w_BGRfFF2",
        "outputId": "bdef0325-b6e1-4c15-ae70-06417ceea713"
      }
    },
    {
      "cell_type": "code",
      "source": [
        "df.select('text').head(1)"
      ],
      "outputs": [
        {
          "output_type": "execute_result",
          "execution_count": 114,
          "data": {
            "text/plain": "[Row(text='look at her face  it s a wonderful face  \\nand it means something special to me  \\nlook at the way that she smiles when she sees me  \\nhow lucky can one fellow be   \\n  \\nshe s just my kind of girl  she makes me feel fine  \\nwho could ever believe that she could be mine   \\nshe s just my kind of girl  without her i m blue  \\nand if she ever leaves me what could i do  what could i do   \\n  \\nand when we go for a walk in the park  \\nand she holds me and squeezes my hand  \\nwe ll go on walking for hours and talking  \\nabout all the things that we plan  \\n  \\nshe s just my kind of girl  she makes me feel fine  \\nwho could ever believe that she could be mine   \\nshe s just my kind of girl  without her i m blue  \\nand if she ever leaves me what could i do  what could i do \\n\\n')]"
          },
          "metadata": {}
        }
      ],
      "execution_count": 114,
      "metadata": {
        "colab": {
          "base_uri": "https://localhost:8080/"
        },
        "id": "rGI1pOihidfG",
        "outputId": "9b6f002e-557f-4e09-d4a4-2c75977cba6d"
      }
    },
    {
      "cell_type": "code",
      "source": [
        "# Removing \"/n\" from text\n",
        "df = df.withColumn('text', regexp_replace(df['text'], r'\\n', ' '))\n",
        "df.select('text').head(1)\n"
      ],
      "outputs": [
        {
          "output_type": "execute_result",
          "execution_count": 115,
          "data": {
            "text/plain": "[Row(text='look at her face  it s a wonderful face   and it means something special to me   look at the way that she smiles when she sees me   how lucky can one fellow be       she s just my kind of girl  she makes me feel fine   who could ever believe that she could be mine    she s just my kind of girl  without her i m blue   and if she ever leaves me what could i do  what could i do       and when we go for a walk in the park   and she holds me and squeezes my hand   we ll go on walking for hours and talking   about all the things that we plan      she s just my kind of girl  she makes me feel fine   who could ever believe that she could be mine    she s just my kind of girl  without her i m blue   and if she ever leaves me what could i do  what could i do   ')]"
          },
          "metadata": {}
        }
      ],
      "execution_count": 115,
      "metadata": {
        "colab": {
          "base_uri": "https://localhost:8080/"
        },
        "id": "nRLif7XziqWe",
        "outputId": "1af7ce28-c32b-4a60-a58b-c2d2ca9ab821"
      }
    },
    {
      "cell_type": "markdown",
      "source": [
        "## Feature Engineering\n",
        "\n",
        "\n",
        "* Create TF-IDF features\n",
        "* Pair_wise Cosine_similarity matrix\n",
        "\n"
      ],
      "metadata": {
        "id": "1Qkxuw0jFvHJ"
      }
    },
    {
      "cell_type": "code",
      "source": [
        "# Initialize the Porter stemmer from NLTK\n",
        "# PorterStemmer is a stemming algorithm that reduces words to their base or root form\n"
      ],
      "outputs": [],
      "execution_count": 116,
      "metadata": {
        "id": "vFTaNIkBpfVX"
      }
    },
    {
      "cell_type": "code",
      "source": [
        "stemmer = PorterStemmer()"
      ],
      "outputs": [],
      "execution_count": 117,
      "metadata": {
        "id": "bMhFDwbUGlXg"
      }
    },
    {
      "cell_type": "code",
      "source": [
        "def tokenize_text(text):\n",
        "    tokens= word_tokenize(text)    # tokenize the input text into individual words\n",
        "    stemming=[stemmer.stem(token) for token in tokens]\n",
        "    return \" \".join(stemming)      # returns the stemmed words joined into a single string"
      ],
      "outputs": [],
      "execution_count": 118,
      "metadata": {
        "id": "MNXVqbeRlBx0"
      }
    },
    {
      "cell_type": "code",
      "source": [
        "# Register the UDFs\n",
        "stem_udf = udf(tokenize_text, StringType())"
      ],
      "outputs": [],
      "execution_count": 119,
      "metadata": {
        "id": "gtepDQSsm_h0"
      }
    },
    {
      "cell_type": "code",
      "source": [
        "# Apply the UDFs to the 'text' column\n",
        "df = df.withColumn('text', stem_udf(df['text']))\n"
      ],
      "outputs": [],
      "execution_count": 120,
      "metadata": {
        "id": "jOyzQFTaoxe3"
      }
    },
    {
      "cell_type": "code",
      "source": [
        "# Show the DataFrame with tokenized and stemmed text\n",
        "df.select('text').show()"
      ],
      "outputs": [
        {
          "output_type": "stream",
          "name": "stdout",
          "text": [
            "+--------------------+\n",
            "|                text|\n",
            "+--------------------+\n",
            "|look at her face ...|\n",
            "|take it easi with...|\n",
            "|i ll never know w...|\n",
            "|make somebodi hap...|\n",
            "|make somebodi hap...|\n",
            "|well you hoot and...|\n",
            "|down in the stree...|\n",
            "|chiquitita tell m...|\n",
            "|i wa out with the...|\n",
            "|i m waitin for yo...|\n",
            "|oh my love it mak...|\n",
            "|you can danc you ...|\n",
            "|chang move in a c...|\n",
            "|you re so hot tea...|\n",
            "|agnetha we re not...|\n",
            "|i can hear how yo...|\n",
            "|they came fli fro...|\n",
            "|everi good man ne...|\n",
            "|can you hear the ...|\n",
            "|pued escuchar fer...|\n",
            "+--------------------+\n",
            "only showing top 20 rows\n",
            "\n"
          ]
        }
      ],
      "execution_count": 121,
      "metadata": {
        "colab": {
          "base_uri": "https://localhost:8080/"
        },
        "id": "W3JccaLXo6cO",
        "outputId": "6dfe4e22-f970-4bbd-b5b1-f99e86a4be0a"
      }
    },
    {
      "cell_type": "code",
      "source": [
        "df.show() # Final cleaned dataframe after Pre-processing"
      ],
      "outputs": [
        {
          "output_type": "stream",
          "name": "stdout",
          "text": [
            "+------+--------------------+--------------------+\n",
            "|artist|                song|                text|\n",
            "+------+--------------------+--------------------+\n",
            "|  ABBA|Ahe's My Kind Of ...|look at her face ...|\n",
            "|  ABBA|    Andante, Andante|take it easi with...|\n",
            "|  ABBA|      As Good As New|i ll never know w...|\n",
            "|  ABBA|                Bang|make somebodi hap...|\n",
            "|  ABBA|    Bang-A-Boomerang|make somebodi hap...|\n",
            "|  ABBA|  Burning My Bridges|well you hoot and...|\n",
            "|  ABBA|           Cassandra|down in the stree...|\n",
            "|  ABBA|          Chiquitita|chiquitita tell m...|\n",
            "|  ABBA|         Crazy World|i wa out with the...|\n",
            "|  ABBA|     Crying Over You|i m waitin for yo...|\n",
            "|  ABBA|               Dance|oh my love it mak...|\n",
            "|  ABBA|       Dancing Queen|you can danc you ...|\n",
            "|  ABBA|         Disillusion|chang move in a c...|\n",
            "|  ABBA|Does Your Mother ...|you re so hot tea...|\n",
            "|  ABBA|         Dream World|agnetha we re not...|\n",
            "|  ABBA|      Dum Dum Diddle|i can hear how yo...|\n",
            "|  ABBA|               Eagle|they came fli fro...|\n",
            "|  ABBA|      Every Good Man|everi good man ne...|\n",
            "|  ABBA|            Fernando|can you hear the ...|\n",
            "|  ABBA|Fernando (In Span...|pued escuchar fer...|\n",
            "+------+--------------------+--------------------+\n",
            "only showing top 20 rows\n",
            "\n"
          ]
        }
      ],
      "execution_count": 123,
      "metadata": {
        "colab": {
          "base_uri": "https://localhost:8080/"
        },
        "id": "X7tC9F4cu5Cc",
        "outputId": "a35eb2a9-2543-4de7-e962-abc2e18fc6fd"
      }
    },
    {
      "cell_type": "code",
      "source": [
        "# Show the DataFrame with the array column\n",
        "\n",
        "df.select(\"text\").show()"
      ],
      "outputs": [
        {
          "output_type": "stream",
          "name": "stdout",
          "text": [
            "+--------------------+\n",
            "|                text|\n",
            "+--------------------+\n",
            "|[look at her face...|\n",
            "|[take it easi wit...|\n",
            "|[i ll never know ...|\n",
            "|[make somebodi ha...|\n",
            "|[make somebodi ha...|\n",
            "|[well you hoot an...|\n",
            "|[down in the stre...|\n",
            "|[chiquitita tell ...|\n",
            "|[i wa out with th...|\n",
            "|[i m waitin for y...|\n",
            "|[oh my love it ma...|\n",
            "|[you can danc you...|\n",
            "|[chang move in a ...|\n",
            "|[you re so hot te...|\n",
            "|[agnetha we re no...|\n",
            "|[i can hear how y...|\n",
            "|[they came fli fr...|\n",
            "|[everi good man n...|\n",
            "|[can you hear the...|\n",
            "|[pued escuchar fe...|\n",
            "+--------------------+\n",
            "only showing top 20 rows\n",
            "\n"
          ]
        }
      ],
      "execution_count": 126,
      "metadata": {
        "colab": {
          "base_uri": "https://localhost:8080/"
        },
        "id": "TvHJ4_KY0lPn",
        "outputId": "28e87335-da57-4786-aa82-0ab55c279eb6"
      }
    },
    {
      "cell_type": "code",
      "source": [
        "pandas_df=df.toPandas() # Converting to pandas Dataframe"
      ],
      "outputs": [],
      "execution_count": 127,
      "metadata": {
        "id": "VzcrFGlEb1_r"
      }
    },
    {
      "cell_type": "code",
      "source": [
        "pandas_df"
      ],
      "outputs": [
        {
          "output_type": "execute_result",
          "execution_count": 128,
          "data": {
            "text/html": "\n  <div id=\"df-31b20d86-a012-4e61-a093-6236b78f0c1d\" class=\"colab-df-container\">\n    <div>\n<style scoped>\n    .dataframe tbody tr th:only-of-type {\n        vertical-align: middle;\n    }\n\n    .dataframe tbody tr th {\n        vertical-align: top;\n    }\n\n    .dataframe thead th {\n        text-align: right;\n    }\n</style>\n<table border=\"1\" class=\"dataframe\">\n  <thead>\n    <tr style=\"text-align: right;\">\n      <th></th>\n      <th>artist</th>\n      <th>song</th>\n      <th>text</th>\n    </tr>\n  </thead>\n  <tbody>\n    <tr>\n      <th>0</th>\n      <td>ABBA</td>\n      <td>Ahe's My Kind Of Girl</td>\n      <td>[look at her face it s a wonder face and it me...</td>\n    </tr>\n    <tr>\n      <th>1</th>\n      <td>ABBA</td>\n      <td>Andante, Andante</td>\n      <td>[take it easi with me pleas touch me gentli li...</td>\n    </tr>\n    <tr>\n      <th>2</th>\n      <td>ABBA</td>\n      <td>As Good As New</td>\n      <td>[i ll never know whi i had to go whi i had to ...</td>\n    </tr>\n    <tr>\n      <th>3</th>\n      <td>ABBA</td>\n      <td>Bang</td>\n      <td>[make somebodi happi is a question of give and...</td>\n    </tr>\n    <tr>\n      <th>4</th>\n      <td>ABBA</td>\n      <td>Bang-A-Boomerang</td>\n      <td>[make somebodi happi is a question of give and...</td>\n    </tr>\n    <tr>\n      <th>...</th>\n      <td>...</td>\n      <td>...</td>\n      <td>...</td>\n    </tr>\n    <tr>\n      <th>4995</th>\n      <td>Elvis Costello</td>\n      <td>Love For Tender</td>\n      <td>[you won t take my love for tender you can put...</td>\n    </tr>\n    <tr>\n      <th>4996</th>\n      <td>Elvis Costello</td>\n      <td>Love Went Mad</td>\n      <td>[i ve look at it everi way i can from under an...</td>\n    </tr>\n    <tr>\n      <th>4997</th>\n      <td>Elvis Costello</td>\n      <td>Lover's Walk</td>\n      <td>[i won t walk with my head bow be on beyond ca...</td>\n    </tr>\n    <tr>\n      <th>4998</th>\n      <td>Elvis Costello</td>\n      <td>Luxembourg</td>\n      <td>[dress up like a dog s dinner butter wouldn t ...</td>\n    </tr>\n    <tr>\n      <th>4999</th>\n      <td>Elvis Costello</td>\n      <td>Men Called Uncle</td>\n      <td>[now there s newsprint all over your face well...</td>\n    </tr>\n  </tbody>\n</table>\n<p>5000 rows × 3 columns</p>\n</div>\n    <div class=\"colab-df-buttons\">\n\n  <div class=\"colab-df-container\">\n    <button class=\"colab-df-convert\" onclick=\"convertToInteractive('df-31b20d86-a012-4e61-a093-6236b78f0c1d')\"\n            title=\"Convert this dataframe to an interactive table.\"\n            style=\"display:none;\">\n\n  <svg xmlns=\"http://www.w3.org/2000/svg\" height=\"24px\" viewBox=\"0 -960 960 960\">\n    <path d=\"M120-120v-720h720v720H120Zm60-500h600v-160H180v160Zm220 220h160v-160H400v160Zm0 220h160v-160H400v160ZM180-400h160v-160H180v160Zm440 0h160v-160H620v160ZM180-180h160v-160H180v160Zm440 0h160v-160H620v160Z\"/>\n  </svg>\n    </button>\n\n  <style>\n    .colab-df-container {\n      display:flex;\n      gap: 12px;\n    }\n\n    .colab-df-convert {\n      background-color: #E8F0FE;\n      border: none;\n      border-radius: 50%;\n      cursor: pointer;\n      display: none;\n      fill: #1967D2;\n      height: 32px;\n      padding: 0 0 0 0;\n      width: 32px;\n    }\n\n    .colab-df-convert:hover {\n      background-color: #E2EBFA;\n      box-shadow: 0px 1px 2px rgba(60, 64, 67, 0.3), 0px 1px 3px 1px rgba(60, 64, 67, 0.15);\n      fill: #174EA6;\n    }\n\n    .colab-df-buttons div {\n      margin-bottom: 4px;\n    }\n\n    [theme=dark] .colab-df-convert {\n      background-color: #3B4455;\n      fill: #D2E3FC;\n    }\n\n    [theme=dark] .colab-df-convert:hover {\n      background-color: #434B5C;\n      box-shadow: 0px 1px 3px 1px rgba(0, 0, 0, 0.15);\n      filter: drop-shadow(0px 1px 2px rgba(0, 0, 0, 0.3));\n      fill: #FFFFFF;\n    }\n  </style>\n\n    <script>\n      const buttonEl =\n        document.querySelector('#df-31b20d86-a012-4e61-a093-6236b78f0c1d button.colab-df-convert');\n      buttonEl.style.display =\n        google.colab.kernel.accessAllowed ? 'block' : 'none';\n\n      async function convertToInteractive(key) {\n        const element = document.querySelector('#df-31b20d86-a012-4e61-a093-6236b78f0c1d');\n        const dataTable =\n          await google.colab.kernel.invokeFunction('convertToInteractive',\n                                                    [key], {});\n        if (!dataTable) return;\n\n        const docLinkHtml = 'Like what you see? Visit the ' +\n          '<a target=\"_blank\" href=https://colab.research.google.com/notebooks/data_table.ipynb>data table notebook</a>'\n          + ' to learn more about interactive tables.';\n        element.innerHTML = '';\n        dataTable['output_type'] = 'display_data';\n        await google.colab.output.renderOutput(dataTable, element);\n        const docLink = document.createElement('div');\n        docLink.innerHTML = docLinkHtml;\n        element.appendChild(docLink);\n      }\n    </script>\n  </div>\n\n\n<div id=\"df-b2de1749-d786-4eee-8e8d-c246f007264a\">\n  <button class=\"colab-df-quickchart\" onclick=\"quickchart('df-b2de1749-d786-4eee-8e8d-c246f007264a')\"\n            title=\"Suggest charts.\"\n            style=\"display:none;\">\n\n<svg xmlns=\"http://www.w3.org/2000/svg\" height=\"24px\"viewBox=\"0 0 24 24\"\n     width=\"24px\">\n    <g>\n        <path d=\"M19 3H5c-1.1 0-2 .9-2 2v14c0 1.1.9 2 2 2h14c1.1 0 2-.9 2-2V5c0-1.1-.9-2-2-2zM9 17H7v-7h2v7zm4 0h-2V7h2v10zm4 0h-2v-4h2v4z\"/>\n    </g>\n</svg>\n  </button>\n\n<style>\n  .colab-df-quickchart {\n    background-color: #E8F0FE;\n    border: none;\n    border-radius: 50%;\n    cursor: pointer;\n    display: none;\n    fill: #1967D2;\n    height: 32px;\n    padding: 0 0 0 0;\n    width: 32px;\n  }\n\n  .colab-df-quickchart:hover {\n    background-color: #E2EBFA;\n    box-shadow: 0px 1px 2px rgba(60, 64, 67, 0.3), 0px 1px 3px 1px rgba(60, 64, 67, 0.15);\n    fill: #174EA6;\n  }\n\n  [theme=dark] .colab-df-quickchart {\n    background-color: #3B4455;\n    fill: #D2E3FC;\n  }\n\n  [theme=dark] .colab-df-quickchart:hover {\n    background-color: #434B5C;\n    box-shadow: 0px 1px 3px 1px rgba(0, 0, 0, 0.15);\n    filter: drop-shadow(0px 1px 2px rgba(0, 0, 0, 0.3));\n    fill: #FFFFFF;\n  }\n</style>\n\n  <script>\n    async function quickchart(key) {\n      const charts = await google.colab.kernel.invokeFunction(\n          'suggestCharts', [key], {});\n    }\n    (() => {\n      let quickchartButtonEl =\n        document.querySelector('#df-b2de1749-d786-4eee-8e8d-c246f007264a button');\n      quickchartButtonEl.style.display =\n        google.colab.kernel.accessAllowed ? 'block' : 'none';\n    })();\n  </script>\n</div>\n    </div>\n  </div>\n",
            "text/plain": "              artist                   song  \\\n0               ABBA  Ahe's My Kind Of Girl   \n1               ABBA       Andante, Andante   \n2               ABBA         As Good As New   \n3               ABBA                   Bang   \n4               ABBA       Bang-A-Boomerang   \n...              ...                    ...   \n4995  Elvis Costello        Love For Tender   \n4996  Elvis Costello          Love Went Mad   \n4997  Elvis Costello           Lover's Walk   \n4998  Elvis Costello             Luxembourg   \n4999  Elvis Costello       Men Called Uncle   \n\n                                                   text  \n0     [look at her face it s a wonder face and it me...  \n1     [take it easi with me pleas touch me gentli li...  \n2     [i ll never know whi i had to go whi i had to ...  \n3     [make somebodi happi is a question of give and...  \n4     [make somebodi happi is a question of give and...  \n...                                                 ...  \n4995  [you won t take my love for tender you can put...  \n4996  [i ve look at it everi way i can from under an...  \n4997  [i won t walk with my head bow be on beyond ca...  \n4998  [dress up like a dog s dinner butter wouldn t ...  \n4999  [now there s newsprint all over your face well...  \n\n[5000 rows x 3 columns]"
          },
          "metadata": {}
        }
      ],
      "execution_count": 128,
      "metadata": {
        "colab": {
          "base_uri": "https://localhost:8080/",
          "height": 424
        },
        "id": "Jeo0q6Gnjq8o",
        "outputId": "d47e3559-c592-4754-930f-10399be87c23"
      }
    },
    {
      "cell_type": "code",
      "source": [
        "# Removing common english stop words from the text and doing analysis at word level\n",
        "tfidvector = TfidfVectorizer(analyzer='word',stop_words='english')\n",
        "matrix = tfidvector.fit_transform(pandas_df['text'])     # Transforming text into TF_IDF matrix\n"
      ],
      "outputs": [],
      "execution_count": 130,
      "metadata": {
        "id": "LJDEQj1Pz4eO"
      }
    },
    {
      "cell_type": "code",
      "source": [
        "# Applying matrix to calculated cosine similairity between the text\n",
        "similarity = cosine_similarity(matrix)\n",
        "similarity"
      ],
      "outputs": [
        {
          "output_type": "execute_result",
          "execution_count": 131,
          "data": {
            "text/plain": "array([[1.        , 0.03571458, 0.01274887, ..., 0.06065868, 0.05687335,\n        0.13438459],\n       [0.03571458, 1.        , 0.00759337, ..., 0.00483217, 0.01919634,\n        0.0034971 ],\n       [0.01274887, 0.00759337, 1.        , ..., 0.00726643, 0.00871825,\n        0.03042829],\n       ...,\n       [0.06065868, 0.00483217, 0.00726643, ..., 1.        , 0.0582164 ,\n        0.01661463],\n       [0.05687335, 0.01919634, 0.00871825, ..., 0.0582164 , 1.        ,\n        0.08982805],\n       [0.13438459, 0.0034971 , 0.03042829, ..., 0.01661463, 0.08982805,\n        1.        ]])"
          },
          "metadata": {}
        }
      ],
      "execution_count": 131,
      "metadata": {
        "colab": {
          "base_uri": "https://localhost:8080/"
        },
        "id": "TWFz45cOl3fi",
        "outputId": "61f05920-5acc-4ff1-e4ce-0765731caf0a"
      }
    },
    {
      "cell_type": "markdown",
      "source": [
        "## Recommendation Function"
      ],
      "metadata": {
        "id": "I1d_jD_0L41f"
      }
    },
    {
      "cell_type": "code",
      "source": [
        "def recommendation(song_df):\n",
        "    # Find the index of the given song in the DataFrame\n",
        "    idx = pandas_df[pandas_df['song'] == song_df].index[0]\n",
        "\n",
        "    # Calculate distances and sort them in descending order\n",
        "    distances = sorted(list(enumerate(similarity[idx])),reverse=True,key=lambda x:x[1])\n",
        "\n",
        "    # Create a list to store recommended songs\n",
        "    songs = []\n",
        "\n",
        "    # Iterate through distances and retrieve recommended songs\n",
        "    for m_id in distances[1:21]:\n",
        "        songs.append(pandas_df.iloc[m_id[0]].song)\n",
        "\n",
        "    # Return the list of recommended songs\n",
        "    return songs"
      ],
      "outputs": [],
      "execution_count": 132,
      "metadata": {
        "id": "485m4gv39zk2"
      }
    },
    {
      "cell_type": "code",
      "source": [
        "## Demo inputs\n",
        "''' 'Endless Love',\n",
        " 'Boom Boom Boom',\n",
        " 'Easy Ride',\n",
        " \"Boom, Boom, Ain't It Great To Be Crazy?\",\n",
        " 'Bang-Bang',\n",
        " 'Boom Boom',\n",
        " 'History Is Made By Stupid People',\n",
        " 'Bang A Drum',\n",
        " 'How To Be Dumb',\n",
        " 'Love You Till Tuesday',\n",
        " 'Pop Style',\n",
        " 'The Ants Go Marching',\n",
        " \"I'll Kiss You\",\n",
        " 'X Marks The Spot' '''\n"
      ],
      "outputs": [
        {
          "output_type": "execute_result",
          "execution_count": 133,
          "data": {
            "application/vnd.google.colaboratory.intrinsic+json": {
              "type": "string"
            },
            "text/plain": "' \\'Endless Love\\',\\n \\'Boom Boom Boom\\',\\n \\'Easy Ride\\',\\n \"Boom, Boom, Ain\\'t It Great To Be Crazy?\",\\n \\'Bang-Bang\\',\\n \\'Boom Boom\\',\\n \\'History Is Made By Stupid People\\',\\n \\'Bang A Drum\\',\\n \\'How To Be Dumb\\',\\n \\'Love You Till Tuesday\\',\\n \\'Pop Style\\',\\n \\'The Ants Go Marching\\',\\n \"I\\'ll Kiss You\",\\n \\'X Marks The Spot\\' '"
          },
          "metadata": {}
        }
      ],
      "execution_count": 133,
      "metadata": {
        "colab": {
          "base_uri": "https://localhost:8080/",
          "height": 70
        },
        "id": "XyqqjkB79_KC",
        "outputId": "13ab1006-5f8e-49ad-e589-4d50d9218aa6"
      }
    },
    {
      "cell_type": "code",
      "source": [
        "recommendation('Love You Till Tuesday')  # calling Function"
      ],
      "outputs": [
        {
          "output_type": "execute_result",
          "execution_count": 134,
          "data": {
            "text/plain": "['Be With Me',\n 'No Fortune',\n 'Where We Land',\n 'Learn To Croon',\n 'Games People Play',\n 'When The Cows Come Home',\n 'A Casual Look',\n 'Rolling Down Da Street',\n 'Best I Ever Had',\n 'The Prime Of Your Love',\n 'I Just Got My Pay',\n 'Last Time I Saw Him',\n 'I Love You',\n 'See All Her Faces',\n 'Perhaps, Perhaps',\n 'Love To Love You Baby',\n 'Give Up',\n \"I Can't Wait\",\n 'I Love Her I Love Her',\n 'Fool Til The End']"
          },
          "metadata": {}
        }
      ],
      "execution_count": 134,
      "metadata": {
        "colab": {
          "base_uri": "https://localhost:8080/"
        },
        "id": "UhBALIty9_F-",
        "outputId": "7fb7196c-f2d8-41ed-933f-385961d744a2"
      }
    }
  ],
  "metadata": {
    "colab": {
      "provenance": []
    },
    "kernelspec": {
      "display_name": "Python 3 (ipykernel)",
      "language": "python",
      "name": "python3"
    },
    "language_info": {
      "name": "python",
      "version": "3.11.4",
      "mimetype": "text/x-python",
      "codemirror_mode": {
        "name": "ipython",
        "version": 3
      },
      "pygments_lexer": "ipython3",
      "nbconvert_exporter": "python",
      "file_extension": ".py"
    },
    "nteract": {
      "version": "0.28.0"
    }
  },
  "nbformat": 4,
  "nbformat_minor": 1
}